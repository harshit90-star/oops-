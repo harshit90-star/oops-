{
  "nbformat": 4,
  "nbformat_minor": 0,
  "metadata": {
    "colab": {
      "provenance": []
    },
    "kernelspec": {
      "name": "python3",
      "display_name": "Python 3"
    },
    "language_info": {
      "name": "python"
    }
  },
  "cells": [
    {
      "cell_type": "markdown",
      "source": [
        "#   **Theory Questions**"
      ],
      "metadata": {
        "id": "1n118YAVS1MO"
      }
    },
    {
      "cell_type": "markdown",
      "source": [
        "1. What is Object-Oriented Programming (OOP)?\n",
        "  - Object-oriented programming (OOP) is a style of programming characterized by the identification of classes of objects closely linked with the methods (functions) with which they are associated.\n",
        "\n",
        "2. What is a class in OOP?\n",
        "  - In object-oriented programming (OOP), a class is a template for creating objects.\n",
        "\n",
        "3. What is an object in OOP?\n",
        "  - In object-oriented programming (OOP), an object is a unit of code that represents a data structure or abstract data type.\n",
        "\n",
        "4. What is the difference between abstraction and encapsulation?\n",
        "  - Encapsulation is the practice of bundling data and methods within a single unit, like a class, and controlling their access, whereas abstraction is about hiding complex implementation details and exposing only the essential functionalities.\n",
        "\n",
        "5. What are dunder methods in Python?\n",
        "  - Dunder methods, also known as magic methods or special methods, are predefined methods in Python that allow you to customize the behavior of your objects.\n",
        "\n",
        "6. Explain the concept of inheritance in OOP.\n",
        "  - Inheritance in object-oriented programming (OOP) is a mechanism that allows a class to inherit properties and behaviors from another class.\n",
        "\n",
        "7. What is polymorphism in OOP?\n",
        "  - Polymorphism in object-oriented programming (OOP) is the ability of an entity to have more than one form.\n",
        "\n",
        "8. How is encapsulation achieved in Python?\n",
        "  - Encapsulation in Python is achieved by using access modifiers to limit access to a class's variables and methods.\n",
        "  \n",
        "9. What is a constructor in Python?\n",
        "  - A constructor in Python is a special method that is automatically called when a class object is created.\n",
        "\n",
        "10. What are class and static methods in Python?\n",
        "  - A class method can access or modify the class state while a static method can't access or modify it.\n",
        "\n",
        "11. What is method overloading in Python?\n",
        "  - Method overloading in Python is the ability to call a single function with different types of parameters or input.\n",
        "\n",
        "12. What is method overriding in OOP?\n",
        "  - Method overriding in object-oriented programming (OOP) is a feature that allows a subclass to redefine a method that its superclass already defines.\n",
        "\n",
        "13. What is a property decorator in Python?\n",
        "  - The decorator is a built-in Python decorator that allows you to turn class methods into properties in a way that's both elegant and user-friendly.\n",
        "\n",
        "14. Why is polymorphism important in OOP?\n",
        "  - Polymorphism is crucial in Object-Oriented Programming (OOP) because it allows a single method name to perform different actions depending on the object type, leading to cleaner, more flexible code, improved reusability, and easier maintenance by enabling developers to write code that can handle various object types without needing to explicitly check their class types at runtime.\n",
        "\n",
        "15. What is an abstract class in Python?\n",
        "  - An abstract class in Python is a class that can't be instantiated on its own, but is used as a blueprint for other classes.\n",
        "\n",
        "16. What are the advantages of OOP?\n",
        "  - The main advantages of OOP include improved code organization through encapsulation, reusability via inheritance, flexibility with polymorphism, and simplification of complex systems through abstraction.\n",
        "\n",
        "17. What is the difference between a class variable and an instance variable?\n",
        "  - A class variable is a variable defined within a class that is shared by all instances of that class, meaning there's only one copy of the variable regardless of how many objects are created, while an instance variable is a variable defined within a class that is unique to each object created from that class, giving each instance its own separate copy of the variable.\n",
        "\n",
        "18. What is multiple inheritance in Python?\n",
        "  - Multiple inheritance in Python is a feature that allows a class to inherit properties from more than one parent class.\n",
        "\n",
        "19.  Explain the purpose of ‘’__str__’ and ‘__repr__’ ‘ methods in Python.\n",
        "  - In Python, the __str__ method is used to provide a human-readable string representation of an object, typically for display to users, while the __repr__ method aims to provide a more detailed, unambiguous representation, primarily used for debugging and development purposes, allowing you to potentially recreate the object from the string output.\n",
        "\n",
        "20. What is the significance of the ‘super()’ function in Python?\n",
        "  - In Python, the \"super()\" function is used to access methods and attributes from a parent class (also called a superclass) within a child class, allowing you to call the parent class's functionality directly from within the child class.\n",
        "\n",
        "21. What is the significance of the __del__ method in Python?\n",
        "  - __del__ is a finalizer. It is called when an object is garbage collected which happens at some point after all references to the object have been deleted.\n",
        "\n",
        "22. What is the difference between @staticmethod and @classmethod in Python?\n",
        "  - In Python, the difference between @classmethod and @staticmethod is that @classmethod takes the class as an argument, while @staticmethod does not.\n",
        "\n",
        "23. How does polymorphism work in Python with inheritance?\n",
        "  - Polymorphism, a child class method is allowed to have the same name as the class methods in the parent class. In inheritance, the methods belonging to the parent class are passed down to the child class.\n",
        "\n",
        "24. What is method chaining in Python OOP?\n",
        "  - In Python object-oriented programming (OOP), \"method chaining\" is a technique where you call multiple methods on an object consecutively in a single line of code, by having each method return the object itself, allowing you to chain further operations on the same object without needing to store intermediate results in variables, resulting in more concise and readable code.\n",
        "\n",
        "25. What is the purpose of the __call__ method in Python?\n",
        "  - The __call__ method in Python allows programmers to create callable objects, which can be called like functions.\n"
      ],
      "metadata": {
        "id": "V0tyQo4bKyza"
      }
    },
    {
      "cell_type": "markdown",
      "source": [
        "# Practical Questions"
      ],
      "metadata": {
        "id": "EkaGvvjBSzxf"
      }
    },
    {
      "cell_type": "code",
      "source": [
        "#1 Create a parent class Animal with a method speak() that prints a generic message. Create a child class Dog that overrides the speak() method to print \"Bark!\n",
        "class Animal:\n",
        "    def speak(self):\n",
        "        print(\"Generic animal sound\")\n",
        "\n",
        "class Dog(Animal):\n",
        "    def speak(self):\n",
        "        print(\"Bark!\")"
      ],
      "metadata": {
        "id": "Nde7pt9sTtgo"
      },
      "execution_count": 3,
      "outputs": []
    },
    {
      "cell_type": "code",
      "source": [
        "obj = Animal()"
      ],
      "metadata": {
        "id": "YRPDRSWfT7Q_"
      },
      "execution_count": 4,
      "outputs": []
    },
    {
      "cell_type": "code",
      "source": [
        "obj.speak()"
      ],
      "metadata": {
        "colab": {
          "base_uri": "https://localhost:8080/"
        },
        "id": "DvY4AKLVUB2T",
        "outputId": "daa46033-f40f-4539-ce50-6bde73de539c"
      },
      "execution_count": 10,
      "outputs": [
        {
          "output_type": "stream",
          "name": "stdout",
          "text": [
            "Generic animal sound\n"
          ]
        }
      ]
    },
    {
      "cell_type": "code",
      "source": [
        "obj1 = Dog()"
      ],
      "metadata": {
        "id": "t8uxJqneU6Eq"
      },
      "execution_count": 11,
      "outputs": []
    },
    {
      "cell_type": "code",
      "source": [
        "obj1.speak()"
      ],
      "metadata": {
        "colab": {
          "base_uri": "https://localhost:8080/"
        },
        "id": "ZgdzxuY3U_Z_",
        "outputId": "87ba64bb-2ed8-4451-9d98-0a7be2fccae6"
      },
      "execution_count": 12,
      "outputs": [
        {
          "output_type": "stream",
          "name": "stdout",
          "text": [
            "Bark!\n"
          ]
        }
      ]
    },
    {
      "cell_type": "code",
      "source": [
        "#2  Write a program to create an abstract class Shape with a method area(). Derive classes Circle and Rectangle from it and implement the area() method in both.\n",
        "class Shape:\n",
        "  def area(self):\n",
        "    pass\n",
        "\n",
        "class Circle(Shape):\n",
        "  def area(self, radius):\n",
        "    return 3.14 * radius ** 2\n",
        "\n",
        "class Rectangle(Shape):\n",
        "  def area(self, length, width):\n",
        "    return length * width"
      ],
      "metadata": {
        "id": "3Q1TzsHkVCS8"
      },
      "execution_count": 13,
      "outputs": []
    },
    {
      "cell_type": "code",
      "source": [
        "a = Shape()"
      ],
      "metadata": {
        "id": "qZWssIZpVx0o"
      },
      "execution_count": 14,
      "outputs": []
    },
    {
      "cell_type": "code",
      "source": [
        "a.area()"
      ],
      "metadata": {
        "id": "xUPw-m12V0kb"
      },
      "execution_count": 15,
      "outputs": []
    },
    {
      "cell_type": "code",
      "source": [
        "b = Circle()"
      ],
      "metadata": {
        "id": "K97u2A26V2pt"
      },
      "execution_count": 16,
      "outputs": []
    },
    {
      "cell_type": "code",
      "source": [
        "b.area(4)"
      ],
      "metadata": {
        "colab": {
          "base_uri": "https://localhost:8080/"
        },
        "id": "cxXsvgVPV79o",
        "outputId": "29282d2c-62ca-423d-b4f5-35abf4cb1e50"
      },
      "execution_count": 18,
      "outputs": [
        {
          "output_type": "execute_result",
          "data": {
            "text/plain": [
              "50.24"
            ]
          },
          "metadata": {},
          "execution_count": 18
        }
      ]
    },
    {
      "cell_type": "code",
      "source": [
        "c = Rectangle()"
      ],
      "metadata": {
        "id": "sgV67iX_V_qa"
      },
      "execution_count": 19,
      "outputs": []
    },
    {
      "cell_type": "code",
      "source": [
        "c.area(2, 4)"
      ],
      "metadata": {
        "colab": {
          "base_uri": "https://localhost:8080/"
        },
        "id": "LQHQPQScWHat",
        "outputId": "bd197927-dcb3-4518-d713-7e78e24c9b44"
      },
      "execution_count": 20,
      "outputs": [
        {
          "output_type": "execute_result",
          "data": {
            "text/plain": [
              "8"
            ]
          },
          "metadata": {},
          "execution_count": 20
        }
      ]
    },
    {
      "cell_type": "code",
      "source": [
        "#3  Implement a multi-level inheritance scenario where a class Vehicle has an attribute type. Derive a class Car and further derive a class ElectricCar that adds a battery attribute.\n",
        "class Vehical:\n",
        "  def __init__(self, type):\n",
        "    self.type = type\n",
        "\n",
        "class Car(Vehical):\n",
        "  def __init__(self, type, model):\n",
        "    super().__init__(type)\n",
        "\n",
        "    self.model = model\n",
        "\n",
        "class ElectricCar(Car):\n",
        "  def __init__(self, type, model, battery):\n",
        "    super().__init__(type, model)\n",
        "    self.battery = battery"
      ],
      "metadata": {
        "id": "EpviWWTAWMx3"
      },
      "execution_count": 22,
      "outputs": []
    },
    {
      "cell_type": "code",
      "source": [
        "a = Vehical(Car)"
      ],
      "metadata": {
        "id": "8vAU_X0pWz1g"
      },
      "execution_count": 25,
      "outputs": []
    },
    {
      "cell_type": "code",
      "source": [
        "car = Car(\"Car\", \"Sedan\")\n",
        "electric_car = ElectricCar(\"Electric\", \"Tesla\", \"Lithium-ion\")"
      ],
      "metadata": {
        "id": "JDUffzQRYdjJ"
      },
      "execution_count": 32,
      "outputs": []
    },
    {
      "cell_type": "code",
      "source": [
        "print(electric_car.type)\n",
        "print(electric_car.model)\n",
        "print(electric_car.battery)"
      ],
      "metadata": {
        "colab": {
          "base_uri": "https://localhost:8080/"
        },
        "id": "JfVHJPcZYs5x",
        "outputId": "983cc596-38fd-4442-f19a-260c9ca8b180"
      },
      "execution_count": 33,
      "outputs": [
        {
          "output_type": "stream",
          "name": "stdout",
          "text": [
            "Electric\n",
            "Tesla\n",
            "Lithium-ion\n"
          ]
        }
      ]
    },
    {
      "cell_type": "code",
      "source": [
        "#4  Implement a multi-level inheritance scenario where a class Vehicle has an attribute type. Derive a class Car and further derive a class ElectricCar that adds a battery attribute.\n",
        "# repeated question same as ques 3"
      ],
      "metadata": {
        "id": "PZDBCt-JYXem"
      },
      "execution_count": 34,
      "outputs": []
    },
    {
      "cell_type": "code",
      "source": [
        "#5  Write a program to demonstrate encapsulation by creating a class BankAccount with private attributes balance and methods to deposit, withdraw, and check balance\n",
        "class Bank:\n",
        "  amount = 10000\n",
        "  def deposit(self, amount):\n",
        "    print(\"i am depositing the money\")\n",
        "  def withdraw(self, amount):\n",
        "    print(\"i am withdrawing the money\")"
      ],
      "metadata": {
        "id": "CinHC6XHZisz"
      },
      "execution_count": 45,
      "outputs": []
    },
    {
      "cell_type": "code",
      "source": [
        "vicky = Bank()\n",
        "vicky.deposit(1000)"
      ],
      "metadata": {
        "colab": {
          "base_uri": "https://localhost:8080/"
        },
        "id": "tGDoA1vmZrey",
        "outputId": "778ecb17-0192-447b-daaf-b907b4f78637"
      },
      "execution_count": 46,
      "outputs": [
        {
          "output_type": "stream",
          "name": "stdout",
          "text": [
            "i am depositing the money\n"
          ]
        }
      ]
    },
    {
      "cell_type": "code",
      "source": [
        "vicky.withdraw(5000)"
      ],
      "metadata": {
        "colab": {
          "base_uri": "https://localhost:8080/"
        },
        "id": "E4LI9vxPZzXm",
        "outputId": "82be6035-4018-4bef-ec1c-c2abefa0c55e"
      },
      "execution_count": 47,
      "outputs": [
        {
          "output_type": "stream",
          "name": "stdout",
          "text": [
            "i am withdrawing the money\n"
          ]
        }
      ]
    },
    {
      "cell_type": "code",
      "source": [
        "vicky.amount"
      ],
      "metadata": {
        "colab": {
          "base_uri": "https://localhost:8080/"
        },
        "id": "bcter_aNZ5-F",
        "outputId": "cca965e7-16a8-4536-d185-9aa50444d2b7"
      },
      "execution_count": 48,
      "outputs": [
        {
          "output_type": "execute_result",
          "data": {
            "text/plain": [
              "10000"
            ]
          },
          "metadata": {},
          "execution_count": 48
        }
      ]
    },
    {
      "cell_type": "code",
      "source": [
        "#6 Demonstrate runtime polymorphism using a method play() in a base class Instrument. Derive classes Guitar and Piano that implement their own version of play().\n",
        "class Instrument:\n",
        "  def play(self):\n",
        "    pass\n",
        "\n",
        "class Guitar(Instrument):\n",
        "  def play(self):\n",
        "    print(\"playing guitar\")\n",
        "\n",
        "class Piano(Instrument):\n",
        "  def play(self):\n",
        "    print(\"playing piano\")"
      ],
      "metadata": {
        "id": "VOHvjWjSaAbl"
      },
      "execution_count": 58,
      "outputs": []
    },
    {
      "cell_type": "code",
      "source": [
        "obj = Instrument()"
      ],
      "metadata": {
        "id": "anwCxbbqbClh"
      },
      "execution_count": 59,
      "outputs": []
    },
    {
      "cell_type": "code",
      "source": [
        "obj.play()"
      ],
      "metadata": {
        "id": "8uON5jOBbm8C"
      },
      "execution_count": 65,
      "outputs": []
    },
    {
      "cell_type": "code",
      "source": [
        "obj = Guitar()"
      ],
      "metadata": {
        "id": "HEkjbl-Xb8CD"
      },
      "execution_count": 69,
      "outputs": []
    },
    {
      "cell_type": "code",
      "source": [
        "obj.play()"
      ],
      "metadata": {
        "colab": {
          "base_uri": "https://localhost:8080/"
        },
        "id": "SdVF12_XcHX0",
        "outputId": "205aed30-c5c6-4f35-a2ce-e4acdd27d762"
      },
      "execution_count": 71,
      "outputs": [
        {
          "output_type": "stream",
          "name": "stdout",
          "text": [
            "playing guitar\n"
          ]
        }
      ]
    },
    {
      "cell_type": "code",
      "source": [
        "obj = Piano()"
      ],
      "metadata": {
        "id": "dbgdpvvucWZz"
      },
      "execution_count": 73,
      "outputs": []
    },
    {
      "cell_type": "code",
      "source": [
        "obj.play()"
      ],
      "metadata": {
        "colab": {
          "base_uri": "https://localhost:8080/"
        },
        "id": "m_S8y-iwcd2p",
        "outputId": "259ea245-f4b2-4d3d-adaa-c70f44b351d0"
      },
      "execution_count": 74,
      "outputs": [
        {
          "output_type": "stream",
          "name": "stdout",
          "text": [
            "playing piano\n"
          ]
        }
      ]
    },
    {
      "cell_type": "code",
      "source": [
        "#7 Create a class MathOperations with a class method add_numbers() to add two numbers and a static method subtract_numbers() to subtract two numbers.\n",
        "class MathOperations:\n",
        "  @classmethod\n",
        "  def add_numbers(cls, a, b):\n",
        "    return a + b\n",
        "\n",
        "  @staticmethod\n",
        "  def subtract_numbers(a, b):\n",
        "    return a - b"
      ],
      "metadata": {
        "id": "U5Ig2qgAcklB"
      },
      "execution_count": 75,
      "outputs": []
    },
    {
      "cell_type": "code",
      "source": [
        "obj = MathOperations()"
      ],
      "metadata": {
        "id": "jC3fqeoPc4sI"
      },
      "execution_count": 76,
      "outputs": []
    },
    {
      "cell_type": "code",
      "source": [
        "obj.add_numbers(2, 3)"
      ],
      "metadata": {
        "colab": {
          "base_uri": "https://localhost:8080/"
        },
        "id": "vskcv9Gfc7G6",
        "outputId": "4d68b7a0-b993-4b11-fe48-9234b6c3cd37"
      },
      "execution_count": 77,
      "outputs": [
        {
          "output_type": "execute_result",
          "data": {
            "text/plain": [
              "5"
            ]
          },
          "metadata": {},
          "execution_count": 77
        }
      ]
    },
    {
      "cell_type": "code",
      "source": [
        "obj.subtract_numbers(12, 9)"
      ],
      "metadata": {
        "colab": {
          "base_uri": "https://localhost:8080/"
        },
        "id": "gf4p-5NSc9m8",
        "outputId": "6d41cd11-aa4e-46d6-9f63-1bd6a1715860"
      },
      "execution_count": 78,
      "outputs": [
        {
          "output_type": "execute_result",
          "data": {
            "text/plain": [
              "3"
            ]
          },
          "metadata": {},
          "execution_count": 78
        }
      ]
    },
    {
      "cell_type": "code",
      "source": [
        "#8  Implement a class Person with a class method to count the total number of persons created.\n",
        "class Person:\n",
        "  count = 0\n",
        "  def __init__(self):\n",
        "    Person.count += 1"
      ],
      "metadata": {
        "id": "wmlwAupjdBEW"
      },
      "execution_count": 79,
      "outputs": []
    },
    {
      "cell_type": "code",
      "source": [
        "obj = Person()"
      ],
      "metadata": {
        "id": "TtZIBlQpdI_h"
      },
      "execution_count": 80,
      "outputs": []
    },
    {
      "cell_type": "code",
      "source": [
        "obj1 = Person()"
      ],
      "metadata": {
        "id": "IRf-utWkdKTB"
      },
      "execution_count": 81,
      "outputs": []
    },
    {
      "cell_type": "code",
      "source": [
        "obj.count"
      ],
      "metadata": {
        "colab": {
          "base_uri": "https://localhost:8080/"
        },
        "id": "vrxeb4u6dNDU",
        "outputId": "338f0f42-1128-4eae-c3e5-8e4e3b7ecd2d"
      },
      "execution_count": 82,
      "outputs": [
        {
          "output_type": "execute_result",
          "data": {
            "text/plain": [
              "2"
            ]
          },
          "metadata": {},
          "execution_count": 82
        }
      ]
    },
    {
      "cell_type": "code",
      "source": [
        "#9 Write a class Fraction with attributes numerator and denominator. Override the str method to display the fraction as \"numerator/denominator\".\n",
        "class Fraction:\n",
        "  def __init__(self, numerator, denominator):\n",
        "    self.numerator = numerator\n",
        "    self.denominator = denominator\n",
        "\n",
        "  def __str__(self):\n",
        "    return f\"{self.numerator}/{self.denominator}\""
      ],
      "metadata": {
        "id": "L9xG2QOHdp4Z"
      },
      "execution_count": 83,
      "outputs": []
    },
    {
      "cell_type": "code",
      "source": [
        "obj = Fraction(2, 3)"
      ],
      "metadata": {
        "id": "1wmypPlTdsfD"
      },
      "execution_count": 84,
      "outputs": []
    },
    {
      "cell_type": "code",
      "source": [
        "obj.denominator"
      ],
      "metadata": {
        "colab": {
          "base_uri": "https://localhost:8080/"
        },
        "id": "CaMgR4sHdui4",
        "outputId": "9ac71ac0-a73f-4e50-feb0-beeac7b2ceb4"
      },
      "execution_count": 86,
      "outputs": [
        {
          "output_type": "execute_result",
          "data": {
            "text/plain": [
              "3"
            ]
          },
          "metadata": {},
          "execution_count": 86
        }
      ]
    },
    {
      "cell_type": "code",
      "source": [
        "obj.numerator"
      ],
      "metadata": {
        "colab": {
          "base_uri": "https://localhost:8080/"
        },
        "id": "VzTivGk1dxtO",
        "outputId": "9b60dd67-9515-4c56-d59c-17669241fa81"
      },
      "execution_count": 87,
      "outputs": [
        {
          "output_type": "execute_result",
          "data": {
            "text/plain": [
              "2"
            ]
          },
          "metadata": {},
          "execution_count": 87
        }
      ]
    },
    {
      "cell_type": "code",
      "source": [
        "#10 Demonstrate operator overloading by creating a class Vector and overriding the add method to add two vectors.\n",
        "class Vector:\n",
        "  def __init__(self, x, y):\n",
        "    self.x = x\n",
        "    self.y = y\n",
        "\n",
        "  def __add__(self, other):\n",
        "    return Vector(self.x + other.x, self.y + other.y)"
      ],
      "metadata": {
        "id": "HxcVZkxad2g6"
      },
      "execution_count": 88,
      "outputs": []
    },
    {
      "cell_type": "code",
      "source": [
        "obj = Vector(5, 6)"
      ],
      "metadata": {
        "id": "Q1FZJyt5d_fz"
      },
      "execution_count": 90,
      "outputs": []
    },
    {
      "cell_type": "code",
      "source": [
        "obj1 = Vector(2, 3)"
      ],
      "metadata": {
        "id": "kasqAxYzeJRw"
      },
      "execution_count": 96,
      "outputs": []
    },
    {
      "cell_type": "code",
      "source": [
        "obj.__add__(obj1)"
      ],
      "metadata": {
        "colab": {
          "base_uri": "https://localhost:8080/"
        },
        "id": "sjwtWxTOeUvK",
        "outputId": "615542c0-d89d-418f-b133-c29feae6696b"
      },
      "execution_count": 94,
      "outputs": [
        {
          "output_type": "execute_result",
          "data": {
            "text/plain": [
              "<__main__.Vector at 0x7905a8fa2610>"
            ]
          },
          "metadata": {},
          "execution_count": 94
        }
      ]
    },
    {
      "cell_type": "code",
      "source": [
        "#11  Create a class Person with attributes name and age. Add a method greet() that prints \"Hello, my name is {name} and I am {age} years old.\"\n",
        "class Person:\n",
        "  def __init__(self, name, age):\n",
        "    self.name = name\n",
        "    self.age = age\n",
        "\n",
        "  def greet(self):\n",
        "    print(f\"Hello, my name is {self.name} and I am {self.age} years old.\")"
      ],
      "metadata": {
        "id": "bpDajxHKfGQN"
      },
      "execution_count": 105,
      "outputs": []
    },
    {
      "cell_type": "code",
      "source": [
        "obj = Person(\"Harshit\", 21)"
      ],
      "metadata": {
        "id": "OkycjQBtfGyy"
      },
      "execution_count": 106,
      "outputs": []
    },
    {
      "cell_type": "code",
      "source": [
        "obj.greet()"
      ],
      "metadata": {
        "colab": {
          "base_uri": "https://localhost:8080/"
        },
        "id": "MINqu5djfJZI",
        "outputId": "6354fae5-6ccc-45fa-b21e-bdea545604b9"
      },
      "execution_count": 109,
      "outputs": [
        {
          "output_type": "stream",
          "name": "stdout",
          "text": [
            "Hello, my name is Harshit and I am 21 years old.\n"
          ]
        }
      ]
    },
    {
      "cell_type": "code",
      "source": [
        "#12  Implement a class Student with attributes name and grades. Create a method average_grade() to compute the average of the grades.\n",
        "class Student:\n",
        "  def __init__(self, name, grades):\n",
        "    self.name = name\n",
        "    self.grades = grades\n",
        "\n",
        "  def average_grade(self):\n",
        "    return sum(self.grades) / len(self.grades)"
      ],
      "metadata": {
        "id": "twRLu2Z-fvWr"
      },
      "execution_count": 110,
      "outputs": []
    },
    {
      "cell_type": "code",
      "source": [
        "obj = Student(\"Harshit\", [85, 90, 78, 92])"
      ],
      "metadata": {
        "id": "QdGheYDMfv_G"
      },
      "execution_count": 118,
      "outputs": []
    },
    {
      "cell_type": "code",
      "source": [
        "obj.average_grade()"
      ],
      "metadata": {
        "colab": {
          "base_uri": "https://localhost:8080/"
        },
        "id": "e1o7afkXf0Nk",
        "outputId": "c376366c-acf4-4223-9b5b-f003153d76a4"
      },
      "execution_count": 119,
      "outputs": [
        {
          "output_type": "execute_result",
          "data": {
            "text/plain": [
              "86.25"
            ]
          },
          "metadata": {},
          "execution_count": 119
        }
      ]
    },
    {
      "cell_type": "code",
      "source": [
        "#13  Create a class Rectangle with methods set_dimensions() to set the dimensions and area() to calculate the area.\n",
        "class Rectangle:\n",
        "  def __init__(self, length, width):\n",
        "    self.length = length\n",
        "    self.width = width\n",
        "\n",
        "  def set_dimensions(self, length, width):\n",
        "    self.length = length\n",
        "    self.width = width\n",
        "\n",
        "  def area(self):\n",
        "    return self.length * self.width"
      ],
      "metadata": {
        "id": "AsL5FJ_7gBmu"
      },
      "execution_count": 121,
      "outputs": []
    },
    {
      "cell_type": "code",
      "source": [
        "obj = Rectangle(5, 6)"
      ],
      "metadata": {
        "id": "Xo01g1SngjHA"
      },
      "execution_count": 123,
      "outputs": []
    },
    {
      "cell_type": "code",
      "source": [
        "obj.area()"
      ],
      "metadata": {
        "colab": {
          "base_uri": "https://localhost:8080/"
        },
        "id": "FvToSTdOgynr",
        "outputId": "8c7d2f7a-6c6a-46c0-cbe4-0a8c5de87dc4"
      },
      "execution_count": 125,
      "outputs": [
        {
          "output_type": "execute_result",
          "data": {
            "text/plain": [
              "30"
            ]
          },
          "metadata": {},
          "execution_count": 125
        }
      ]
    },
    {
      "cell_type": "code",
      "source": [
        "#14 Create a class Employee with a method calculate_salary() that computes the salary based on hours worked and hourly rate. Create a derived class Manager that adds a bonus to the salary.\n",
        "class Employee:\n",
        "  def __init__(self, name, hours_worked, hourly_rate):\n",
        "    self.name = name\n",
        "    self.hours_worked = hours_worked\n",
        "    self.hourly_rate = hourly_rate\n",
        "class Manager(Employee):\n",
        "  def __init__(self, name, hours_worked, hourly_rate, bonus):\n",
        "    super().__init__(name, hours_worked, hourly_rate)\n",
        "    self.bonus = bonus"
      ],
      "metadata": {
        "id": "ajAMg1kmg5CD"
      },
      "execution_count": 126,
      "outputs": []
    },
    {
      "cell_type": "code",
      "source": [
        "obj = Employee(\"Harshit\", 10, 50)"
      ],
      "metadata": {
        "id": "y4uSzGjbhMB0"
      },
      "execution_count": 127,
      "outputs": []
    },
    {
      "cell_type": "code",
      "source": [
        "obj.hourly_rate"
      ],
      "metadata": {
        "colab": {
          "base_uri": "https://localhost:8080/"
        },
        "id": "TPN0Eyi0hPHi",
        "outputId": "0954dc04-1c74-42c4-a376-6d5c555038ed"
      },
      "execution_count": 129,
      "outputs": [
        {
          "output_type": "execute_result",
          "data": {
            "text/plain": [
              "50"
            ]
          },
          "metadata": {},
          "execution_count": 129
        }
      ]
    },
    {
      "cell_type": "code",
      "source": [
        "obj.hours_worked"
      ],
      "metadata": {
        "colab": {
          "base_uri": "https://localhost:8080/"
        },
        "id": "kHrhN6zIhURV",
        "outputId": "ef7314df-c126-48f0-f966-9b3d0414e30d"
      },
      "execution_count": 130,
      "outputs": [
        {
          "output_type": "execute_result",
          "data": {
            "text/plain": [
              "10"
            ]
          },
          "metadata": {},
          "execution_count": 130
        }
      ]
    },
    {
      "cell_type": "code",
      "source": [
        "obj = Manager(\"Harshit\", 10, 50, 1000)"
      ],
      "metadata": {
        "id": "zbLyMlQYhXr_"
      },
      "execution_count": 131,
      "outputs": []
    },
    {
      "cell_type": "code",
      "source": [
        "obj.bonus"
      ],
      "metadata": {
        "colab": {
          "base_uri": "https://localhost:8080/"
        },
        "id": "Vve68qE9hc5q",
        "outputId": "55dcd94c-1fcb-4e7b-c04f-a0ec249f64d8"
      },
      "execution_count": 132,
      "outputs": [
        {
          "output_type": "execute_result",
          "data": {
            "text/plain": [
              "1000"
            ]
          },
          "metadata": {},
          "execution_count": 132
        }
      ]
    },
    {
      "cell_type": "code",
      "source": [
        "#15 Create a class Product with attributes name, price, and quantity. Implement a method total_price() that calculates the total price of the product.\n",
        "class Product:\n",
        "  def __init__(self, name, price, quantity):\n",
        "    self.name = name\n",
        "    self.price = price\n",
        "    self.quantity = quantity\n",
        "\n",
        "  def total_price(self):\n",
        "    return self.price * self.quantity"
      ],
      "metadata": {
        "id": "h3VGSypsh0ih"
      },
      "execution_count": 133,
      "outputs": []
    },
    {
      "cell_type": "code",
      "source": [
        "obj = Product(\"pen\", 10, 5)"
      ],
      "metadata": {
        "id": "LIABM0T4h1-x"
      },
      "execution_count": 134,
      "outputs": []
    },
    {
      "cell_type": "code",
      "source": [
        "obj.total_price()"
      ],
      "metadata": {
        "colab": {
          "base_uri": "https://localhost:8080/"
        },
        "id": "VLbB8L4-h37t",
        "outputId": "6a0fe290-bf60-4b9a-f18f-24d8adf2aef7"
      },
      "execution_count": 135,
      "outputs": [
        {
          "output_type": "execute_result",
          "data": {
            "text/plain": [
              "50"
            ]
          },
          "metadata": {},
          "execution_count": 135
        }
      ]
    },
    {
      "cell_type": "code",
      "source": [
        "#16 Create a class Animal with an abstract method sound(). Create two derived classes Cow and Sheep that implement the sound() method.\n",
        "class Animal:\n",
        "  def sound(self):\n",
        "    pass\n",
        "\n",
        "class Cow(Animal):\n",
        "  def sound(self):\n",
        "    print(\"Moo!\")\n",
        "\n",
        "class Sheep(Animal):\n",
        "  def sound(self):\n",
        "    print(\"Baa!\")"
      ],
      "metadata": {
        "id": "X1iKK2HLh6Ff"
      },
      "execution_count": 136,
      "outputs": []
    },
    {
      "cell_type": "code",
      "source": [
        "obj = Animal()"
      ],
      "metadata": {
        "id": "yPyemOfwiCFh"
      },
      "execution_count": 137,
      "outputs": []
    },
    {
      "cell_type": "code",
      "source": [
        "obj = Cow()\n",
        "obj.sound()"
      ],
      "metadata": {
        "colab": {
          "base_uri": "https://localhost:8080/"
        },
        "id": "Ea4RrG2FiHzK",
        "outputId": "c3897074-fc21-4f4e-8b10-86f1e84d7cae"
      },
      "execution_count": 141,
      "outputs": [
        {
          "output_type": "stream",
          "name": "stdout",
          "text": [
            "Moo!\n"
          ]
        }
      ]
    },
    {
      "cell_type": "code",
      "source": [
        "obj = Sheep()\n",
        "obj.sound()"
      ],
      "metadata": {
        "colab": {
          "base_uri": "https://localhost:8080/"
        },
        "id": "oIdnvkUViKc5",
        "outputId": "9e567315-66ba-4d58-c90d-701733be59be"
      },
      "execution_count": 142,
      "outputs": [
        {
          "output_type": "stream",
          "name": "stdout",
          "text": [
            "Baa!\n"
          ]
        }
      ]
    },
    {
      "cell_type": "code",
      "source": [
        "#17 Create a class Book with attributes title, author, and year_published. Add a method get_book_info() that returns a formatted string with the book's details.\n",
        "class Book:\n",
        "  def __init__(self, title, author, year_published):\n",
        "    self.title = title\n",
        "    self.author = author\n",
        "    self.year_published = year_published\n",
        "\n",
        "  def get_book_info(self):\n",
        "    return f\"Title: {self.title}\\nAuthor: {self.author}\\nYear Published: {self.year_published}\""
      ],
      "metadata": {
        "id": "ohmiKvFOiek6"
      },
      "execution_count": 147,
      "outputs": []
    },
    {
      "cell_type": "code",
      "source": [
        "obj = Book(\"algebraic geometry\", \"Bernhard Riemann\", 1857)"
      ],
      "metadata": {
        "id": "L4ML6SfwirBd"
      },
      "execution_count": 148,
      "outputs": []
    },
    {
      "cell_type": "code",
      "source": [
        "obj.get_book_info()"
      ],
      "metadata": {
        "colab": {
          "base_uri": "https://localhost:8080/",
          "height": 36
        },
        "id": "BbY7J1XvjZ30",
        "outputId": "8c58fd6a-ab68-40d3-f54f-2d91e9c37518"
      },
      "execution_count": 149,
      "outputs": [
        {
          "output_type": "execute_result",
          "data": {
            "text/plain": [
              "'Title: algebraic geometry\\nAuthor: Bernhard Riemann\\nYear Published: 1857'"
            ],
            "application/vnd.google.colaboratory.intrinsic+json": {
              "type": "string"
            }
          },
          "metadata": {},
          "execution_count": 149
        }
      ]
    },
    {
      "cell_type": "code",
      "source": [
        "#18  Create a class House with attributes address and price. Create a derived class Mansion that adds an attribute number_of_rooms.\n",
        "class House:\n",
        "  def __init__(self, address, price):\n",
        "    self.address = address\n",
        "    self.price = price\n",
        "\n",
        "class Mansion(House):\n",
        "  def __init__(self, address, price, number_of_rooms):\n",
        "    super().__init__(address, price)\n",
        "    self.number_of_rooms = number_of_rooms"
      ],
      "metadata": {
        "id": "Rz7mYIoIlvEW"
      },
      "execution_count": 156,
      "outputs": []
    },
    {
      "cell_type": "code",
      "source": [
        "obj = House(\"123 Main St\", 250000)"
      ],
      "metadata": {
        "id": "9zMe143-mCLd"
      },
      "execution_count": 157,
      "outputs": []
    },
    {
      "cell_type": "code",
      "source": [
        "obj.address"
      ],
      "metadata": {
        "colab": {
          "base_uri": "https://localhost:8080/",
          "height": 36
        },
        "id": "3t5MrVFzmEE3",
        "outputId": "c35752ca-a56c-4bd5-e716-d878d39dcef2"
      },
      "execution_count": 158,
      "outputs": [
        {
          "output_type": "execute_result",
          "data": {
            "text/plain": [
              "'123 Main St'"
            ],
            "application/vnd.google.colaboratory.intrinsic+json": {
              "type": "string"
            }
          },
          "metadata": {},
          "execution_count": 158
        }
      ]
    },
    {
      "cell_type": "code",
      "source": [
        "obj.price"
      ],
      "metadata": {
        "colab": {
          "base_uri": "https://localhost:8080/"
        },
        "id": "I372h6MmmG7k",
        "outputId": "de6cf791-e25c-4c51-fda1-59033a66e8f4"
      },
      "execution_count": 159,
      "outputs": [
        {
          "output_type": "execute_result",
          "data": {
            "text/plain": [
              "250000"
            ]
          },
          "metadata": {},
          "execution_count": 159
        }
      ]
    },
    {
      "cell_type": "code",
      "source": [
        "obj = Mansion(\"123 Main St\", 250000, 20)"
      ],
      "metadata": {
        "id": "Kvp7m4wGmJTP"
      },
      "execution_count": 160,
      "outputs": []
    },
    {
      "cell_type": "code",
      "source": [
        "obj.number_of_rooms"
      ],
      "metadata": {
        "colab": {
          "base_uri": "https://localhost:8080/"
        },
        "id": "tQqGeAbdmMUU",
        "outputId": "ab84e6e1-be04-4217-db59-73e425ad1015"
      },
      "execution_count": 161,
      "outputs": [
        {
          "output_type": "execute_result",
          "data": {
            "text/plain": [
              "20"
            ]
          },
          "metadata": {},
          "execution_count": 161
        }
      ]
    },
    {
      "cell_type": "code",
      "source": [],
      "metadata": {
        "id": "4i982_FrmoFC"
      },
      "execution_count": null,
      "outputs": []
    }
  ]
}